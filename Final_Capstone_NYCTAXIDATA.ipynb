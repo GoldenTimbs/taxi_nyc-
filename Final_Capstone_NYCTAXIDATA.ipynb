{
 "cells": [
  {
   "cell_type": "code",
   "execution_count": 2,
   "metadata": {},
   "outputs": [],
   "source": [
    "import pandas as pd\n",
    "import numpy as np\n",
    "import matplotlib.pyplot as plt \n",
    "import geopandas\n",
    "pd.set_option('display.max_rows', 500)"
   ]
  },
  {
   "cell_type": "code",
   "execution_count": 5,
   "metadata": {},
   "outputs": [],
   "source": [
    "# for second linear regression\n",
    "import seaborn as sns\n",
    "import statsmodels.formula.api as smf\n",
    "from sklearn.metrics import r2_score, mean_squared_error"
   ]
  },
  {
   "cell_type": "code",
   "execution_count": 3,
   "metadata": {},
   "outputs": [],
   "source": [
    "taxiDB = pd.read_csv('C:\\\\Users\\\\Danny\\\\Desktop\\\\GITHUB\\\\NYC_TAXI_DATA\\\\train.csv')\n",
    "taxiDB.pickup_datetime=pd.to_datetime(taxiDB.pickup_datetime)\n",
    "taxiDB.dropoff_datetime=pd.to_datetime(taxiDB.dropoff_datetime)\n",
    "taxiDB['pu_hour'] = taxiDB.pickup_datetime.dt.hour\n",
    "taxiDB['yday'] = taxiDB.pickup_datetime.dt.dayofyear\n",
    "taxiDB['wday'] = taxiDB.pickup_datetime.dt.dayofweek\n",
    "taxiDB['month']= taxiDB.pickup_datetime.dt.month"
   ]
  },
  {
   "cell_type": "code",
   "execution_count": 4,
   "metadata": {},
   "outputs": [
    {
     "data": {
      "text/html": [
       "<div>\n",
       "<style scoped>\n",
       "    .dataframe tbody tr th:only-of-type {\n",
       "        vertical-align: middle;\n",
       "    }\n",
       "\n",
       "    .dataframe tbody tr th {\n",
       "        vertical-align: top;\n",
       "    }\n",
       "\n",
       "    .dataframe thead th {\n",
       "        text-align: right;\n",
       "    }\n",
       "</style>\n",
       "<table border=\"1\" class=\"dataframe\">\n",
       "  <thead>\n",
       "    <tr style=\"text-align: right;\">\n",
       "      <th></th>\n",
       "      <th>id</th>\n",
       "      <th>vendor_id</th>\n",
       "      <th>pickup_datetime</th>\n",
       "      <th>dropoff_datetime</th>\n",
       "      <th>passenger_count</th>\n",
       "      <th>pickup_longitude</th>\n",
       "      <th>pickup_latitude</th>\n",
       "      <th>dropoff_longitude</th>\n",
       "      <th>dropoff_latitude</th>\n",
       "      <th>store_and_fwd_flag</th>\n",
       "      <th>trip_duration</th>\n",
       "      <th>pu_hour</th>\n",
       "      <th>yday</th>\n",
       "      <th>wday</th>\n",
       "      <th>month</th>\n",
       "    </tr>\n",
       "  </thead>\n",
       "  <tbody>\n",
       "    <tr>\n",
       "      <th>0</th>\n",
       "      <td>id2875421</td>\n",
       "      <td>2</td>\n",
       "      <td>2016-03-14 17:24:55</td>\n",
       "      <td>2016-03-14 17:32:30</td>\n",
       "      <td>1</td>\n",
       "      <td>-73.982155</td>\n",
       "      <td>40.767937</td>\n",
       "      <td>-73.964630</td>\n",
       "      <td>40.765602</td>\n",
       "      <td>N</td>\n",
       "      <td>455</td>\n",
       "      <td>17</td>\n",
       "      <td>74</td>\n",
       "      <td>0</td>\n",
       "      <td>3</td>\n",
       "    </tr>\n",
       "    <tr>\n",
       "      <th>1</th>\n",
       "      <td>id2377394</td>\n",
       "      <td>1</td>\n",
       "      <td>2016-06-12 00:43:35</td>\n",
       "      <td>2016-06-12 00:54:38</td>\n",
       "      <td>1</td>\n",
       "      <td>-73.980415</td>\n",
       "      <td>40.738564</td>\n",
       "      <td>-73.999481</td>\n",
       "      <td>40.731152</td>\n",
       "      <td>N</td>\n",
       "      <td>663</td>\n",
       "      <td>0</td>\n",
       "      <td>164</td>\n",
       "      <td>6</td>\n",
       "      <td>6</td>\n",
       "    </tr>\n",
       "    <tr>\n",
       "      <th>2</th>\n",
       "      <td>id3858529</td>\n",
       "      <td>2</td>\n",
       "      <td>2016-01-19 11:35:24</td>\n",
       "      <td>2016-01-19 12:10:48</td>\n",
       "      <td>1</td>\n",
       "      <td>-73.979027</td>\n",
       "      <td>40.763939</td>\n",
       "      <td>-74.005333</td>\n",
       "      <td>40.710087</td>\n",
       "      <td>N</td>\n",
       "      <td>2124</td>\n",
       "      <td>11</td>\n",
       "      <td>19</td>\n",
       "      <td>1</td>\n",
       "      <td>1</td>\n",
       "    </tr>\n",
       "    <tr>\n",
       "      <th>3</th>\n",
       "      <td>id3504673</td>\n",
       "      <td>2</td>\n",
       "      <td>2016-04-06 19:32:31</td>\n",
       "      <td>2016-04-06 19:39:40</td>\n",
       "      <td>1</td>\n",
       "      <td>-74.010040</td>\n",
       "      <td>40.719971</td>\n",
       "      <td>-74.012268</td>\n",
       "      <td>40.706718</td>\n",
       "      <td>N</td>\n",
       "      <td>429</td>\n",
       "      <td>19</td>\n",
       "      <td>97</td>\n",
       "      <td>2</td>\n",
       "      <td>4</td>\n",
       "    </tr>\n",
       "    <tr>\n",
       "      <th>4</th>\n",
       "      <td>id2181028</td>\n",
       "      <td>2</td>\n",
       "      <td>2016-03-26 13:30:55</td>\n",
       "      <td>2016-03-26 13:38:10</td>\n",
       "      <td>1</td>\n",
       "      <td>-73.973053</td>\n",
       "      <td>40.793209</td>\n",
       "      <td>-73.972923</td>\n",
       "      <td>40.782520</td>\n",
       "      <td>N</td>\n",
       "      <td>435</td>\n",
       "      <td>13</td>\n",
       "      <td>86</td>\n",
       "      <td>5</td>\n",
       "      <td>3</td>\n",
       "    </tr>\n",
       "    <tr>\n",
       "      <th>...</th>\n",
       "      <td>...</td>\n",
       "      <td>...</td>\n",
       "      <td>...</td>\n",
       "      <td>...</td>\n",
       "      <td>...</td>\n",
       "      <td>...</td>\n",
       "      <td>...</td>\n",
       "      <td>...</td>\n",
       "      <td>...</td>\n",
       "      <td>...</td>\n",
       "      <td>...</td>\n",
       "      <td>...</td>\n",
       "      <td>...</td>\n",
       "      <td>...</td>\n",
       "      <td>...</td>\n",
       "    </tr>\n",
       "    <tr>\n",
       "      <th>1458639</th>\n",
       "      <td>id2376096</td>\n",
       "      <td>2</td>\n",
       "      <td>2016-04-08 13:31:04</td>\n",
       "      <td>2016-04-08 13:44:02</td>\n",
       "      <td>4</td>\n",
       "      <td>-73.982201</td>\n",
       "      <td>40.745522</td>\n",
       "      <td>-73.994911</td>\n",
       "      <td>40.740170</td>\n",
       "      <td>N</td>\n",
       "      <td>778</td>\n",
       "      <td>13</td>\n",
       "      <td>99</td>\n",
       "      <td>4</td>\n",
       "      <td>4</td>\n",
       "    </tr>\n",
       "    <tr>\n",
       "      <th>1458640</th>\n",
       "      <td>id1049543</td>\n",
       "      <td>1</td>\n",
       "      <td>2016-01-10 07:35:15</td>\n",
       "      <td>2016-01-10 07:46:10</td>\n",
       "      <td>1</td>\n",
       "      <td>-74.000946</td>\n",
       "      <td>40.747379</td>\n",
       "      <td>-73.970184</td>\n",
       "      <td>40.796547</td>\n",
       "      <td>N</td>\n",
       "      <td>655</td>\n",
       "      <td>7</td>\n",
       "      <td>10</td>\n",
       "      <td>6</td>\n",
       "      <td>1</td>\n",
       "    </tr>\n",
       "    <tr>\n",
       "      <th>1458641</th>\n",
       "      <td>id2304944</td>\n",
       "      <td>2</td>\n",
       "      <td>2016-04-22 06:57:41</td>\n",
       "      <td>2016-04-22 07:10:25</td>\n",
       "      <td>1</td>\n",
       "      <td>-73.959129</td>\n",
       "      <td>40.768799</td>\n",
       "      <td>-74.004433</td>\n",
       "      <td>40.707371</td>\n",
       "      <td>N</td>\n",
       "      <td>764</td>\n",
       "      <td>6</td>\n",
       "      <td>113</td>\n",
       "      <td>4</td>\n",
       "      <td>4</td>\n",
       "    </tr>\n",
       "    <tr>\n",
       "      <th>1458642</th>\n",
       "      <td>id2714485</td>\n",
       "      <td>1</td>\n",
       "      <td>2016-01-05 15:56:26</td>\n",
       "      <td>2016-01-05 16:02:39</td>\n",
       "      <td>1</td>\n",
       "      <td>-73.982079</td>\n",
       "      <td>40.749062</td>\n",
       "      <td>-73.974632</td>\n",
       "      <td>40.757107</td>\n",
       "      <td>N</td>\n",
       "      <td>373</td>\n",
       "      <td>15</td>\n",
       "      <td>5</td>\n",
       "      <td>1</td>\n",
       "      <td>1</td>\n",
       "    </tr>\n",
       "    <tr>\n",
       "      <th>1458643</th>\n",
       "      <td>id1209952</td>\n",
       "      <td>1</td>\n",
       "      <td>2016-04-05 14:44:25</td>\n",
       "      <td>2016-04-05 14:47:43</td>\n",
       "      <td>1</td>\n",
       "      <td>-73.979538</td>\n",
       "      <td>40.781750</td>\n",
       "      <td>-73.972809</td>\n",
       "      <td>40.790585</td>\n",
       "      <td>N</td>\n",
       "      <td>198</td>\n",
       "      <td>14</td>\n",
       "      <td>96</td>\n",
       "      <td>1</td>\n",
       "      <td>4</td>\n",
       "    </tr>\n",
       "  </tbody>\n",
       "</table>\n",
       "<p>1458644 rows × 15 columns</p>\n",
       "</div>"
      ],
      "text/plain": [
       "                id  vendor_id     pickup_datetime    dropoff_datetime  \\\n",
       "0        id2875421          2 2016-03-14 17:24:55 2016-03-14 17:32:30   \n",
       "1        id2377394          1 2016-06-12 00:43:35 2016-06-12 00:54:38   \n",
       "2        id3858529          2 2016-01-19 11:35:24 2016-01-19 12:10:48   \n",
       "3        id3504673          2 2016-04-06 19:32:31 2016-04-06 19:39:40   \n",
       "4        id2181028          2 2016-03-26 13:30:55 2016-03-26 13:38:10   \n",
       "...            ...        ...                 ...                 ...   \n",
       "1458639  id2376096          2 2016-04-08 13:31:04 2016-04-08 13:44:02   \n",
       "1458640  id1049543          1 2016-01-10 07:35:15 2016-01-10 07:46:10   \n",
       "1458641  id2304944          2 2016-04-22 06:57:41 2016-04-22 07:10:25   \n",
       "1458642  id2714485          1 2016-01-05 15:56:26 2016-01-05 16:02:39   \n",
       "1458643  id1209952          1 2016-04-05 14:44:25 2016-04-05 14:47:43   \n",
       "\n",
       "         passenger_count  pickup_longitude  pickup_latitude  \\\n",
       "0                      1        -73.982155        40.767937   \n",
       "1                      1        -73.980415        40.738564   \n",
       "2                      1        -73.979027        40.763939   \n",
       "3                      1        -74.010040        40.719971   \n",
       "4                      1        -73.973053        40.793209   \n",
       "...                  ...               ...              ...   \n",
       "1458639                4        -73.982201        40.745522   \n",
       "1458640                1        -74.000946        40.747379   \n",
       "1458641                1        -73.959129        40.768799   \n",
       "1458642                1        -73.982079        40.749062   \n",
       "1458643                1        -73.979538        40.781750   \n",
       "\n",
       "         dropoff_longitude  dropoff_latitude store_and_fwd_flag  \\\n",
       "0               -73.964630         40.765602                  N   \n",
       "1               -73.999481         40.731152                  N   \n",
       "2               -74.005333         40.710087                  N   \n",
       "3               -74.012268         40.706718                  N   \n",
       "4               -73.972923         40.782520                  N   \n",
       "...                    ...               ...                ...   \n",
       "1458639         -73.994911         40.740170                  N   \n",
       "1458640         -73.970184         40.796547                  N   \n",
       "1458641         -74.004433         40.707371                  N   \n",
       "1458642         -73.974632         40.757107                  N   \n",
       "1458643         -73.972809         40.790585                  N   \n",
       "\n",
       "         trip_duration  pu_hour  yday  wday  month  \n",
       "0                  455       17    74     0      3  \n",
       "1                  663        0   164     6      6  \n",
       "2                 2124       11    19     1      1  \n",
       "3                  429       19    97     2      4  \n",
       "4                  435       13    86     5      3  \n",
       "...                ...      ...   ...   ...    ...  \n",
       "1458639            778       13    99     4      4  \n",
       "1458640            655        7    10     6      1  \n",
       "1458641            764        6   113     4      4  \n",
       "1458642            373       15     5     1      1  \n",
       "1458643            198       14    96     1      4  \n",
       "\n",
       "[1458644 rows x 15 columns]"
      ]
     },
     "execution_count": 4,
     "metadata": {},
     "output_type": "execute_result"
    }
   ],
   "source": [
    "taxiDB"
   ]
  },
  {
   "cell_type": "code",
   "execution_count": null,
   "metadata": {},
   "outputs": [],
   "source": [
    "# splitting data by vendor_id "
   ]
  },
  {
   "cell_type": "code",
   "execution_count": null,
   "metadata": {
    "scrolled": true
   },
   "outputs": [],
   "source": [
    "vendor_1 = taxiDB.loc[taxiDB['vendor_id'] == 1 ]\n",
    "vendor_1 "
   ]
  },
  {
   "cell_type": "code",
   "execution_count": null,
   "metadata": {},
   "outputs": [],
   "source": [
    "vendor_1.to_csv(r'C:\\\\Users\\\\Danny\\\\Desktop\\\\GITHUB\\\\new folder\\\\taxi_vendor1.csv', index = False)"
   ]
  },
  {
   "cell_type": "code",
   "execution_count": null,
   "metadata": {},
   "outputs": [],
   "source": [
    "vendor_2 = taxiDB.loc[taxiDB['vendor_id'] == 2 ]\n",
    "vendor_2 "
   ]
  },
  {
   "cell_type": "code",
   "execution_count": null,
   "metadata": {},
   "outputs": [],
   "source": [
    "vendor_2.to_csv(r'C:\\\\Users\\\\Danny\\\\Desktop\\\\GITHUB\\\\new folder\\\\taxi_vendor2.csv', index = False)"
   ]
  },
  {
   "cell_type": "code",
   "execution_count": 4,
   "metadata": {},
   "outputs": [],
   "source": [
    "# building a linear regression model\n",
    "from sklearn.linear_model import LinearRegression"
   ]
  },
  {
   "cell_type": "code",
   "execution_count": null,
   "metadata": {},
   "outputs": [],
   "source": [
    "# predicting responses ! \n",
    "y_pred = model.predict(x)\n",
    "print('predicted response:', y_pred, sep='\\n')"
   ]
  },
  {
   "cell_type": "code",
   "execution_count": 5,
   "metadata": {},
   "outputs": [
    {
     "name": "stdout",
     "output_type": "stream",
     "text": [
      "[[1]\n",
      " [1]\n",
      " [1]\n",
      " ...\n",
      " [1]\n",
      " [1]\n",
      " [1]]\n"
     ]
    }
   ],
   "source": [
    "# providing the data\n",
    "passenger_column = taxiDB.loc[:,'passenger_count']\n",
    "x_x = passenger_column.values\n",
    "x = x_x.reshape((-1,1))\n",
    "print(x)"
   ]
  },
  {
   "cell_type": "code",
   "execution_count": 6,
   "metadata": {},
   "outputs": [
    {
     "name": "stdout",
     "output_type": "stream",
     "text": [
      "[ 455  663 2124 ...  764  373  198]\n"
     ]
    }
   ],
   "source": [
    "tripd_column= taxiDB.loc[:,'trip_duration']\n",
    "y = tripd_column.values\n",
    "print(y)"
   ]
  },
  {
   "cell_type": "code",
   "execution_count": 7,
   "metadata": {},
   "outputs": [],
   "source": [
    "# creating our model\n",
    "model = LinearRegression()"
   ]
  },
  {
   "cell_type": "code",
   "execution_count": 8,
   "metadata": {},
   "outputs": [],
   "source": [
    "model = LinearRegression().fit(x, y)"
   ]
  },
  {
   "cell_type": "code",
   "execution_count": 9,
   "metadata": {},
   "outputs": [
    {
     "name": "stdout",
     "output_type": "stream",
     "text": [
      "coefficient of determination: 7.175763583744388e-05\n"
     ]
    }
   ],
   "source": [
    "# getting our results\n",
    "r_sq = model.score(x, y)\n",
    "print('coefficient of determination:', r_sq)"
   ]
  },
  {
   "cell_type": "code",
   "execution_count": 10,
   "metadata": {
    "scrolled": true
   },
   "outputs": [
    {
     "name": "stdout",
     "output_type": "stream",
     "text": [
      "intercept: 903.3010427865897\n"
     ]
    }
   ],
   "source": [
    "print('intercept:', model.intercept_)"
   ]
  },
  {
   "cell_type": "code",
   "execution_count": 11,
   "metadata": {},
   "outputs": [
    {
     "name": "stdout",
     "output_type": "stream",
     "text": [
      "slope: [33.75802558]\n"
     ]
    }
   ],
   "source": [
    "print('slope:', model.coef_)"
   ]
  },
  {
   "cell_type": "code",
   "execution_count": 13,
   "metadata": {},
   "outputs": [],
   "source": [
    "# now let us visualize our linear regression using a scatter plot"
   ]
  },
  {
   "cell_type": "code",
   "execution_count": 14,
   "metadata": {},
   "outputs": [
    {
     "data": {
      "image/png": "[encoded data removed]",
      "text/plain": [
       "<Figure size 432x288 with 1 Axes>"
      ]
     },
     "metadata": {
      "needs_background": "light"
     },
     "output_type": "display_data"
    }
   ],
   "source": [
    "plt.scatter(x,y)\n",
    "plt.plot(x, y_pred, color='red')\n",
    "plt.show()"
   ]
  },
  {
   "cell_type": "code",
   "execution_count": null,
   "metadata": {},
   "outputs": [],
   "source": [
    "# lets try again o_O"
   ]
  },
  {
   "cell_type": "code",
   "execution_count": 6,
   "metadata": {},
   "outputs": [],
   "source": [
    "from sklearn.model_selection import train_test_split\n",
    "#version 3\n",
    "def statsmodels_train_test_split(df, stratify=None, **kwargs):\n",
    "\n",
    "    if stratify is None:\n",
    "        y, X = df.iloc[:,0], df.drop(columns=df.columns[0])\n",
    "        X_train, X_test, y_train, y_test = train_test_split(X,y, **kwargs)\n",
    "    else:\n",
    "        y, X = stratify, df.drop(columns = stratify.name)\n",
    "        X_train, X_test, y_train, y_test = train_test_split(X,y,stratify=y, **kwargs)\n",
    "    \n",
    "    return pd.concat([X_train, y_train], axis=1), pd.concat([X_test, y_test], axis=1)\n"
   ]
  },
  {
   "cell_type": "code",
   "execution_count": 7,
   "metadata": {},
   "outputs": [],
   "source": [
    "train, test = statsmodels_train_test_split(taxiDB)"
   ]
  },
  {
   "cell_type": "code",
   "execution_count": 9,
   "metadata": {
    "scrolled": true
   },
   "outputs": [
    {
     "data": {
      "text/html": [
       "<table class=\"simpletable\">\n",
       "<caption>OLS Regression Results</caption>\n",
       "<tr>\n",
       "  <th>Dep. Variable:</th>      <td>trip_duration</td>  <th>  R-squared:         </th>  <td>   0.000</td>  \n",
       "</tr>\n",
       "<tr>\n",
       "  <th>Model:</th>                   <td>OLS</td>       <th>  Adj. R-squared:    </th>  <td>   0.000</td>  \n",
       "</tr>\n",
       "<tr>\n",
       "  <th>Method:</th>             <td>Least Squares</td>  <th>  F-statistic:       </th>  <td>   12.35</td>  \n",
       "</tr>\n",
       "<tr>\n",
       "  <th>Date:</th>             <td>Mon, 28 Sep 2020</td> <th>  Prob (F-statistic):</th>  <td>1.55e-27</td>  \n",
       "</tr>\n",
       "<tr>\n",
       "  <th>Time:</th>                 <td>18:49:02</td>     <th>  Log-Likelihood:    </th> <td>-1.1027e+07</td>\n",
       "</tr>\n",
       "<tr>\n",
       "  <th>No. Observations:</th>      <td>1093983</td>     <th>  AIC:               </th>  <td>2.205e+07</td> \n",
       "</tr>\n",
       "<tr>\n",
       "  <th>Df Residuals:</th>          <td>1093969</td>     <th>  BIC:               </th>  <td>2.205e+07</td> \n",
       "</tr>\n",
       "<tr>\n",
       "  <th>Df Model:</th>              <td>    13</td>      <th>                     </th>      <td> </td>     \n",
       "</tr>\n",
       "<tr>\n",
       "  <th>Covariance Type:</th>      <td>nonrobust</td>    <th>                     </th>      <td> </td>     \n",
       "</tr>\n",
       "</table>\n",
       "<table class=\"simpletable\">\n",
       "<tr>\n",
       "         <td></td>            <th>coef</th>     <th>std err</th>      <th>t</th>      <th>P>|t|</th>  <th>[0.025</th>    <th>0.975]</th>  \n",
       "</tr>\n",
       "<tr>\n",
       "  <th>Intercept</th>       <td>  776.6557</td> <td>   24.461</td> <td>   31.751</td> <td> 0.000</td> <td>  728.714</td> <td>  824.597</td>\n",
       "</tr>\n",
       "<tr>\n",
       "  <th>C(wday)[T.1]</th>    <td>   87.7979</td> <td>   21.364</td> <td>    4.110</td> <td> 0.000</td> <td>   45.925</td> <td>  129.671</td>\n",
       "</tr>\n",
       "<tr>\n",
       "  <th>C(wday)[T.2]</th>    <td>   65.9937</td> <td>   21.196</td> <td>    3.113</td> <td> 0.002</td> <td>   24.450</td> <td>  107.537</td>\n",
       "</tr>\n",
       "<tr>\n",
       "  <th>C(wday)[T.3]</th>    <td>   95.0870</td> <td>   21.011</td> <td>    4.526</td> <td> 0.000</td> <td>   53.907</td> <td>  136.267</td>\n",
       "</tr>\n",
       "<tr>\n",
       "  <th>C(wday)[T.4]</th>    <td>   84.6173</td> <td>   20.902</td> <td>    4.048</td> <td> 0.000</td> <td>   43.649</td> <td>  125.585</td>\n",
       "</tr>\n",
       "<tr>\n",
       "  <th>C(wday)[T.5]</th>    <td>   60.1639</td> <td>   20.973</td> <td>    2.869</td> <td> 0.004</td> <td>   19.058</td> <td>  101.270</td>\n",
       "</tr>\n",
       "<tr>\n",
       "  <th>C(wday)[T.6]</th>    <td>    4.1369</td> <td>   21.622</td> <td>    0.191</td> <td> 0.848</td> <td>  -38.242</td> <td>   46.516</td>\n",
       "</tr>\n",
       "<tr>\n",
       "  <th>C(month)[T.2]</th>   <td>    2.4992</td> <td>   19.512</td> <td>    0.128</td> <td> 0.898</td> <td>  -35.744</td> <td>   40.743</td>\n",
       "</tr>\n",
       "<tr>\n",
       "  <th>C(month)[T.3]</th>   <td>    7.9893</td> <td>   19.179</td> <td>    0.417</td> <td> 0.677</td> <td>  -29.602</td> <td>   45.580</td>\n",
       "</tr>\n",
       "<tr>\n",
       "  <th>C(month)[T.4]</th>   <td>   29.3488</td> <td>   19.248</td> <td>    1.525</td> <td> 0.127</td> <td>   -8.377</td> <td>   67.074</td>\n",
       "</tr>\n",
       "<tr>\n",
       "  <th>C(month)[T.5]</th>   <td>   77.0252</td> <td>   19.319</td> <td>    3.987</td> <td> 0.000</td> <td>   39.160</td> <td>  114.890</td>\n",
       "</tr>\n",
       "<tr>\n",
       "  <th>C(month)[T.6]</th>   <td>   91.0019</td> <td>   19.600</td> <td>    4.643</td> <td> 0.000</td> <td>   52.586</td> <td>  129.418</td>\n",
       "</tr>\n",
       "<tr>\n",
       "  <th>passenger_count</th> <td>   34.1556</td> <td>    4.200</td> <td>    8.132</td> <td> 0.000</td> <td>   25.923</td> <td>   42.388</td>\n",
       "</tr>\n",
       "<tr>\n",
       "  <th>pu_hour</th>         <td>    2.6263</td> <td>    0.867</td> <td>    3.028</td> <td> 0.002</td> <td>    0.927</td> <td>    4.326</td>\n",
       "</tr>\n",
       "</table>\n",
       "<table class=\"simpletable\">\n",
       "<tr>\n",
       "  <th>Omnibus:</th>       <td>6199978.878</td> <th>  Durbin-Watson:     </th>       <td>   2.000</td>      \n",
       "</tr>\n",
       "<tr>\n",
       "  <th>Prob(Omnibus):</th>   <td> 0.000</td>    <th>  Jarque-Bera (JB):  </th> <td>1373381094289936.000</td>\n",
       "</tr>\n",
       "<tr>\n",
       "  <th>Skew:</th>            <td>340.390</td>   <th>  Prob(JB):          </th>       <td>    0.00</td>      \n",
       "</tr>\n",
       "<tr>\n",
       "  <th>Kurtosis:</th>      <td>173580.139</td>  <th>  Cond. No.          </th>       <td>    122.</td>      \n",
       "</tr>\n",
       "</table><br/><br/>Notes:<br/>[1] Standard Errors assume that the covariance matrix of the errors is correctly specified."
      ],
      "text/plain": [
       "<class 'statsmodels.iolib.summary.Summary'>\n",
       "\"\"\"\n",
       "                            OLS Regression Results                            \n",
       "==============================================================================\n",
       "Dep. Variable:          trip_duration   R-squared:                       0.000\n",
       "Model:                            OLS   Adj. R-squared:                  0.000\n",
       "Method:                 Least Squares   F-statistic:                     12.35\n",
       "Date:                Mon, 28 Sep 2020   Prob (F-statistic):           1.55e-27\n",
       "Time:                        18:49:02   Log-Likelihood:            -1.1027e+07\n",
       "No. Observations:             1093983   AIC:                         2.205e+07\n",
       "Df Residuals:                 1093969   BIC:                         2.205e+07\n",
       "Df Model:                          13                                         \n",
       "Covariance Type:            nonrobust                                         \n",
       "===================================================================================\n",
       "                      coef    std err          t      P>|t|      [0.025      0.975]\n",
       "-----------------------------------------------------------------------------------\n",
       "Intercept         776.6557     24.461     31.751      0.000     728.714     824.597\n",
       "C(wday)[T.1]       87.7979     21.364      4.110      0.000      45.925     129.671\n",
       "C(wday)[T.2]       65.9937     21.196      3.113      0.002      24.450     107.537\n",
       "C(wday)[T.3]       95.0870     21.011      4.526      0.000      53.907     136.267\n",
       "C(wday)[T.4]       84.6173     20.902      4.048      0.000      43.649     125.585\n",
       "C(wday)[T.5]       60.1639     20.973      2.869      0.004      19.058     101.270\n",
       "C(wday)[T.6]        4.1369     21.622      0.191      0.848     -38.242      46.516\n",
       "C(month)[T.2]       2.4992     19.512      0.128      0.898     -35.744      40.743\n",
       "C(month)[T.3]       7.9893     19.179      0.417      0.677     -29.602      45.580\n",
       "C(month)[T.4]      29.3488     19.248      1.525      0.127      -8.377      67.074\n",
       "C(month)[T.5]      77.0252     19.319      3.987      0.000      39.160     114.890\n",
       "C(month)[T.6]      91.0019     19.600      4.643      0.000      52.586     129.418\n",
       "passenger_count    34.1556      4.200      8.132      0.000      25.923      42.388\n",
       "pu_hour             2.6263      0.867      3.028      0.002       0.927       4.326\n",
       "================================================================================\n",
       "Omnibus:                  6199978.878   Durbin-Watson:                     2.000\n",
       "Prob(Omnibus):                  0.000   Jarque-Bera (JB):   1373381094289936.000\n",
       "Skew:                         340.390   Prob(JB):                           0.00\n",
       "Kurtosis:                  173580.139   Cond. No.                           122.\n",
       "================================================================================\n",
       "\n",
       "Notes:\n",
       "[1] Standard Errors assume that the covariance matrix of the errors is correctly specified.\n",
       "\"\"\""
      ]
     },
     "execution_count": 9,
     "metadata": {},
     "output_type": "execute_result"
    }
   ],
   "source": [
    "formula = 'trip_duration ~ passenger_count + pu_hour + C(wday) + C(month)'\n",
    "lm = smf.ols(formula=formula, data=train).fit()\n",
    "lm.summary()"
   ]
  },
  {
   "cell_type": "code",
   "execution_count": 10,
   "metadata": {},
   "outputs": [
    {
     "data": {
      "text/plain": [
       "811560      918.708176\n",
       "949563      974.292791\n",
       "555610      908.780116\n",
       "480331     1017.706877\n",
       "1122947     950.691530\n",
       "              ...     \n",
       "168059     1019.302691\n",
       "1206771     945.292990\n",
       "860910     1058.520665\n",
       "598534     1008.405653\n",
       "1175489    1013.671790\n",
       "Length: 364661, dtype: float64"
      ]
     },
     "execution_count": 10,
     "metadata": {},
     "output_type": "execute_result"
    }
   ],
   "source": [
    "y_test_pred = lm.predict(test)\n",
    "y_test_pred"
   ]
  },
  {
   "cell_type": "code",
   "execution_count": null,
   "metadata": {},
   "outputs": [],
   "source": [
    "# this model does not fit our data"
   ]
  },
  {
   "cell_type": "code",
   "execution_count": null,
   "metadata": {},
   "outputs": [],
   "source": [
    "#taxiDB.to_csv(r'C:\\\\Users\\\\Danny\\\\Desktop\\\\GITHUB\\\\new folder\\\\taxi.csv', index = False)\n",
    "# for Tableau visuals. "
   ]
  },
  {
   "cell_type": "code",
   "execution_count": null,
   "metadata": {},
   "outputs": [],
   "source": [
    "# geopandas \n",
    "# converting the dataframe into geodataframe"
   ]
  },
  {
   "cell_type": "code",
   "execution_count": null,
   "metadata": {
    "scrolled": true
   },
   "outputs": [],
   "source": [
    "gdf = geopandas.GeoDataFrame(\n",
    "    taxiDB, geometry=geopandas.points_from_xy(taxiDB.pickup_longitude, taxiDB.pickup_latitude))\n",
    "print(gdf.head())"
   ]
  },
  {
   "cell_type": "code",
   "execution_count": null,
   "metadata": {
    "scrolled": true
   },
   "outputs": [],
   "source": [
    "gdf = geopandas.read_file(geopandas.datasets.get_path('nybb'))\n",
    "ax = gdf.plot(figsize=(10, 10), alpha=0.5, edgecolor='k')"
   ]
  },
  {
   "cell_type": "code",
   "execution_count": null,
   "metadata": {},
   "outputs": [],
   "source": [
    "gdf = gdf.to_crs(epsg=3857)"
   ]
  },
  {
   "cell_type": "code",
   "execution_count": null,
   "metadata": {},
   "outputs": [],
   "source": [
    "import contextily as ctx"
   ]
  },
  {
   "cell_type": "code",
   "execution_count": null,
   "metadata": {},
   "outputs": [],
   "source": [
    "ax = gdf.plot(figsize=(10, 10), alpha=0.5, edgecolor='k')\n",
    "ctx.add_basemap(ax)"
   ]
  },
  {
   "cell_type": "code",
   "execution_count": null,
   "metadata": {},
   "outputs": [],
   "source": [
    "ax = gdf.plot(figsize=(10, 10), alpha=0.5, edgecolor='k')\n",
    "ctx.add_basemap(ax, zoom=12)"
   ]
  },
  {
   "cell_type": "code",
   "execution_count": null,
   "metadata": {},
   "outputs": [],
   "source": [
    "# importing NYC map data "
   ]
  },
  {
   "cell_type": "code",
   "execution_count": null,
   "metadata": {},
   "outputs": [],
   "source": [
    "boros = geopandas.read_file(geopandas.datasets.get_path(\"nybb\"))\n",
    "boro_locations = geopandas.tools.geocode(boros.BoroName)"
   ]
  },
  {
   "cell_type": "code",
   "execution_count": null,
   "metadata": {},
   "outputs": [],
   "source": [
    "fig, ax = plt.subplots()"
   ]
  },
  {
   "cell_type": "code",
   "execution_count": null,
   "metadata": {},
   "outputs": [],
   "source": [
    "boros.to_crs(\"EPSG:4326\").plot(ax=ax, color=\"white\", edgecolor=\"black\");"
   ]
  },
  {
   "cell_type": "code",
   "execution_count": null,
   "metadata": {
    "scrolled": true
   },
   "outputs": [],
   "source": [
    "boro_locations.plot(ax=ax, color=\"red\");"
   ]
  }
 ],
 "metadata": {
  "kernelspec": {
   "display_name": "Python 3",
   "language": "python",
   "name": "python3"
  },
  "language_info": {
   "codemirror_mode": {
    "name": "ipython",
    "version": 3
   },
   "file_extension": ".py",
   "mimetype": "text/x-python",
   "name": "python",
   "nbconvert_exporter": "python",
   "pygments_lexer": "ipython3",
   "version": "3.7.7"
  }
 },
 "nbformat": 4,
 "nbformat_minor": 4
}
